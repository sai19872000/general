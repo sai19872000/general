{
 "cells": [
  {
   "cell_type": "code",
   "execution_count": 1,
   "metadata": {},
   "outputs": [],
   "source": [
    "import pandas as pd"
   ]
  },
  {
   "cell_type": "code",
   "execution_count": 2,
   "metadata": {},
   "outputs": [],
   "source": [
    "df = pd.read_pickle(\"df_after_variable_creation.pkl\")"
   ]
  },
  {
   "cell_type": "code",
   "execution_count": 11,
   "metadata": {},
   "outputs": [],
   "source": [
    "from sklearn import preprocessing\n",
    "le = preprocessing.LabelEncoder()"
   ]
  },
  {
   "cell_type": "code",
   "execution_count": 14,
   "metadata": {},
   "outputs": [],
   "source": [
    "df.customer = le.fit_transform(df.customer)\n",
    "df.age = le.fit_transform(df.age)\n",
    "df.gender = le.fit_transform(df.gender)\n",
    "df.zipcodeOri = le.fit_transform(df.zipcodeOri)\n",
    "df.merchant = le.fit_transform(df.merchant)\n",
    "df.zipMerchant = le.fit_transform(df.zipMerchant)\n",
    "df.category = le.fit_transform(df.category)"
   ]
  },
  {
   "cell_type": "code",
   "execution_count": 18,
   "metadata": {},
   "outputs": [],
   "source": [
    "from sklearn.model_selection import train_test_split"
   ]
  },
  {
   "cell_type": "code",
   "execution_count": 16,
   "metadata": {},
   "outputs": [],
   "source": [
    "df_y = df.fraud\n",
    "df_x = df.drop(columns=[\"fraud\"])"
   ]
  },
  {
   "cell_type": "code",
   "execution_count": 19,
   "metadata": {},
   "outputs": [],
   "source": [
    "X_train, X_test, y_train, y_test = train_test_split(df_x, df_y, test_size=0.20, random_state=8)"
   ]
  },
  {
   "cell_type": "code",
   "execution_count": 20,
   "metadata": {},
   "outputs": [],
   "source": [
    "from xgboost import XGBClassifier"
   ]
  },
  {
   "cell_type": "code",
   "execution_count": 21,
   "metadata": {},
   "outputs": [
    {
     "data": {
      "text/plain": [
       "XGBClassifier(base_score=0.5, booster='gbtree', colsample_bylevel=1,\n",
       "       colsample_bytree=1, gamma=0, learning_rate=0.1, max_delta_step=0,\n",
       "       max_depth=3, min_child_weight=1, missing=None, n_estimators=100,\n",
       "       n_jobs=1, nthread=None, objective='binary:logistic', random_state=0,\n",
       "       reg_alpha=0, reg_lambda=1, scale_pos_weight=1, seed=None,\n",
       "       silent=True, subsample=1)"
      ]
     },
     "execution_count": 21,
     "metadata": {},
     "output_type": "execute_result"
    }
   ],
   "source": [
    "model = XGBClassifier()\n",
    "model.fit(X_train, y_train)"
   ]
  },
  {
   "cell_type": "code",
   "execution_count": 22,
   "metadata": {},
   "outputs": [],
   "source": [
    "y_pred = model.predict(X_test)\n",
    "predictions = [round(value) for value in y_pred]"
   ]
  },
  {
   "cell_type": "code",
   "execution_count": 24,
   "metadata": {},
   "outputs": [
    {
     "name": "stdout",
     "output_type": "stream",
     "text": [
      "Accuracy: 99.65%\n"
     ]
    }
   ],
   "source": [
    "from sklearn.metrics import accuracy_score\n",
    "accuracy = accuracy_score(y_test, predictions)\n",
    "print(\"Accuracy: %.2f%%\" % (accuracy * 100.0))"
   ]
  },
  {
   "cell_type": "code",
   "execution_count": 25,
   "metadata": {},
   "outputs": [],
   "source": [
    "# but this is always true for fraud"
   ]
  },
  {
   "cell_type": "code",
   "execution_count": 26,
   "metadata": {},
   "outputs": [],
   "source": [
    "# we need to sample the data to make them a balanced data set"
   ]
  },
  {
   "cell_type": "code",
   "execution_count": 5,
   "metadata": {},
   "outputs": [
    {
     "data": {
      "text/plain": [
       "7200"
      ]
     },
     "execution_count": 5,
     "metadata": {},
     "output_type": "execute_result"
    }
   ],
   "source": [
    "len(df[df[\"fraud\"]==1])"
   ]
  },
  {
   "cell_type": "code",
   "execution_count": 6,
   "metadata": {},
   "outputs": [
    {
     "data": {
      "text/plain": [
       "587443"
      ]
     },
     "execution_count": 6,
     "metadata": {},
     "output_type": "execute_result"
    }
   ],
   "source": [
    "len(df[df[\"fraud\"]==0])"
   ]
  },
  {
   "cell_type": "code",
   "execution_count": 7,
   "metadata": {},
   "outputs": [
    {
     "data": {
      "text/plain": [
       "0.012256508291017171"
      ]
     },
     "execution_count": 7,
     "metadata": {},
     "output_type": "execute_result"
    }
   ],
   "source": [
    "7200/587443"
   ]
  },
  {
   "cell_type": "code",
   "execution_count": 44,
   "metadata": {},
   "outputs": [
    {
     "data": {
      "text/plain": [
       "72000.0"
      ]
     },
     "execution_count": 44,
     "metadata": {},
     "output_type": "execute_result"
    }
   ],
   "source": [
    "7200*100/10"
   ]
  },
  {
   "cell_type": "code",
   "execution_count": 23,
   "metadata": {},
   "outputs": [
    {
     "data": {
      "text/plain": [
       "64800"
      ]
     },
     "execution_count": 23,
     "metadata": {},
     "output_type": "execute_result"
    }
   ],
   "source": [
    "72000-7200"
   ]
  },
  {
   "cell_type": "code",
   "execution_count": 36,
   "metadata": {},
   "outputs": [],
   "source": [
    "df_fraud = df[df[\"fraud\"]==1]\n",
    "df_good = df[df[\"fraud\"]==0]"
   ]
  },
  {
   "cell_type": "code",
   "execution_count": 37,
   "metadata": {},
   "outputs": [],
   "source": [
    "df_good = df_good.sample(n=64800, random_state=89)"
   ]
  },
  {
   "cell_type": "code",
   "execution_count": 38,
   "metadata": {},
   "outputs": [],
   "source": [
    "df_sampled = pd.concat([df_good,df_fraud])\n",
    "df_sampled = df_sampled.sample(frac=1)"
   ]
  },
  {
   "cell_type": "code",
   "execution_count": 39,
   "metadata": {},
   "outputs": [
    {
     "data": {
      "text/plain": [
       "7200"
      ]
     },
     "execution_count": 39,
     "metadata": {},
     "output_type": "execute_result"
    }
   ],
   "source": [
    "len(df_sampled[df_sampled[\"fraud\"]==1])"
   ]
  },
  {
   "cell_type": "code",
   "execution_count": 40,
   "metadata": {},
   "outputs": [
    {
     "data": {
      "text/plain": [
       "64800"
      ]
     },
     "execution_count": 40,
     "metadata": {},
     "output_type": "execute_result"
    }
   ],
   "source": [
    "len(df_sampled[df_sampled[\"fraud\"]==0])"
   ]
  },
  {
   "cell_type": "code",
   "execution_count": 41,
   "metadata": {},
   "outputs": [
    {
     "data": {
      "text/html": [
       "<div>\n",
       "<style scoped>\n",
       "    .dataframe tbody tr th:only-of-type {\n",
       "        vertical-align: middle;\n",
       "    }\n",
       "\n",
       "    .dataframe tbody tr th {\n",
       "        vertical-align: top;\n",
       "    }\n",
       "\n",
       "    .dataframe thead th {\n",
       "        text-align: right;\n",
       "    }\n",
       "</style>\n",
       "<table border=\"1\" class=\"dataframe\">\n",
       "  <thead>\n",
       "    <tr style=\"text-align: right;\">\n",
       "      <th></th>\n",
       "      <th>step</th>\n",
       "      <th>customer</th>\n",
       "      <th>age</th>\n",
       "      <th>gender</th>\n",
       "      <th>zipcodeOri</th>\n",
       "      <th>merchant</th>\n",
       "      <th>zipMerchant</th>\n",
       "      <th>category</th>\n",
       "      <th>amount</th>\n",
       "      <th>fraud</th>\n",
       "      <th>...</th>\n",
       "      <th>customer_age_gender_merchant_categorystep180amount4000</th>\n",
       "      <th>customer_age_gender_merchant_categorystep45amount150</th>\n",
       "      <th>customer_age_gender_merchant_categorystep45amount1500</th>\n",
       "      <th>customer_age_gender_merchant_categorystep45amount4000</th>\n",
       "      <th>customer_age_gender_merchant_categorystep90amount150</th>\n",
       "      <th>customer_age_gender_merchant_categorystep90amount1500</th>\n",
       "      <th>customer_age_gender_merchant_categorystep90amount4000</th>\n",
       "      <th>customer_age_gender_merchant_categorystep135amount150</th>\n",
       "      <th>customer_age_gender_merchant_categorystep135amount1500</th>\n",
       "      <th>customer_age_gender_merchant_categorystep135amount4000</th>\n",
       "    </tr>\n",
       "  </thead>\n",
       "  <tbody>\n",
       "    <tr>\n",
       "      <th>20743</th>\n",
       "      <td>8</td>\n",
       "      <td>C1320820565</td>\n",
       "      <td>2</td>\n",
       "      <td>F</td>\n",
       "      <td>28007</td>\n",
       "      <td>M348934600</td>\n",
       "      <td>28007</td>\n",
       "      <td>es_transportation</td>\n",
       "      <td>30.39</td>\n",
       "      <td>0</td>\n",
       "      <td>...</td>\n",
       "      <td>145.0</td>\n",
       "      <td>118.0</td>\n",
       "      <td>118.0</td>\n",
       "      <td>118.0</td>\n",
       "      <td>145.0</td>\n",
       "      <td>145.0</td>\n",
       "      <td>145.0</td>\n",
       "      <td>145.0</td>\n",
       "      <td>145.0</td>\n",
       "      <td>145.0</td>\n",
       "    </tr>\n",
       "    <tr>\n",
       "      <th>340197</th>\n",
       "      <td>110</td>\n",
       "      <td>C1415704373</td>\n",
       "      <td>3</td>\n",
       "      <td>F</td>\n",
       "      <td>28007</td>\n",
       "      <td>M85975013</td>\n",
       "      <td>28007</td>\n",
       "      <td>es_food</td>\n",
       "      <td>73.62</td>\n",
       "      <td>0</td>\n",
       "      <td>...</td>\n",
       "      <td>6.0</td>\n",
       "      <td>3.0</td>\n",
       "      <td>3.0</td>\n",
       "      <td>3.0</td>\n",
       "      <td>6.0</td>\n",
       "      <td>6.0</td>\n",
       "      <td>6.0</td>\n",
       "      <td>6.0</td>\n",
       "      <td>6.0</td>\n",
       "      <td>6.0</td>\n",
       "    </tr>\n",
       "    <tr>\n",
       "      <th>240705</th>\n",
       "      <td>81</td>\n",
       "      <td>C709211172</td>\n",
       "      <td>4</td>\n",
       "      <td>F</td>\n",
       "      <td>28007</td>\n",
       "      <td>M1823072687</td>\n",
       "      <td>28007</td>\n",
       "      <td>es_transportation</td>\n",
       "      <td>48.76</td>\n",
       "      <td>0</td>\n",
       "      <td>...</td>\n",
       "      <td>109.0</td>\n",
       "      <td>92.0</td>\n",
       "      <td>92.0</td>\n",
       "      <td>92.0</td>\n",
       "      <td>109.0</td>\n",
       "      <td>109.0</td>\n",
       "      <td>109.0</td>\n",
       "      <td>109.0</td>\n",
       "      <td>109.0</td>\n",
       "      <td>109.0</td>\n",
       "    </tr>\n",
       "    <tr>\n",
       "      <th>21063</th>\n",
       "      <td>8</td>\n",
       "      <td>C1530262146</td>\n",
       "      <td>2</td>\n",
       "      <td>M</td>\n",
       "      <td>28007</td>\n",
       "      <td>M1823072687</td>\n",
       "      <td>28007</td>\n",
       "      <td>es_transportation</td>\n",
       "      <td>41.51</td>\n",
       "      <td>0</td>\n",
       "      <td>...</td>\n",
       "      <td>117.0</td>\n",
       "      <td>98.0</td>\n",
       "      <td>98.0</td>\n",
       "      <td>98.0</td>\n",
       "      <td>117.0</td>\n",
       "      <td>117.0</td>\n",
       "      <td>117.0</td>\n",
       "      <td>117.0</td>\n",
       "      <td>117.0</td>\n",
       "      <td>117.0</td>\n",
       "    </tr>\n",
       "    <tr>\n",
       "      <th>394041</th>\n",
       "      <td>125</td>\n",
       "      <td>C1051712338</td>\n",
       "      <td>4</td>\n",
       "      <td>M</td>\n",
       "      <td>28007</td>\n",
       "      <td>M1823072687</td>\n",
       "      <td>28007</td>\n",
       "      <td>es_transportation</td>\n",
       "      <td>26.27</td>\n",
       "      <td>0</td>\n",
       "      <td>...</td>\n",
       "      <td>58.0</td>\n",
       "      <td>45.0</td>\n",
       "      <td>45.0</td>\n",
       "      <td>45.0</td>\n",
       "      <td>58.0</td>\n",
       "      <td>58.0</td>\n",
       "      <td>58.0</td>\n",
       "      <td>58.0</td>\n",
       "      <td>58.0</td>\n",
       "      <td>58.0</td>\n",
       "    </tr>\n",
       "    <tr>\n",
       "      <th>79429</th>\n",
       "      <td>29</td>\n",
       "      <td>C129386345</td>\n",
       "      <td>3</td>\n",
       "      <td>M</td>\n",
       "      <td>28007</td>\n",
       "      <td>M1823072687</td>\n",
       "      <td>28007</td>\n",
       "      <td>es_transportation</td>\n",
       "      <td>37.32</td>\n",
       "      <td>0</td>\n",
       "      <td>...</td>\n",
       "      <td>130.0</td>\n",
       "      <td>107.0</td>\n",
       "      <td>107.0</td>\n",
       "      <td>107.0</td>\n",
       "      <td>129.0</td>\n",
       "      <td>129.0</td>\n",
       "      <td>129.0</td>\n",
       "      <td>130.0</td>\n",
       "      <td>130.0</td>\n",
       "      <td>130.0</td>\n",
       "    </tr>\n",
       "    <tr>\n",
       "      <th>524670</th>\n",
       "      <td>161</td>\n",
       "      <td>C1166355595</td>\n",
       "      <td>4</td>\n",
       "      <td>F</td>\n",
       "      <td>28007</td>\n",
       "      <td>M1823072687</td>\n",
       "      <td>28007</td>\n",
       "      <td>es_transportation</td>\n",
       "      <td>6.47</td>\n",
       "      <td>0</td>\n",
       "      <td>...</td>\n",
       "      <td>82.0</td>\n",
       "      <td>65.0</td>\n",
       "      <td>65.0</td>\n",
       "      <td>65.0</td>\n",
       "      <td>82.0</td>\n",
       "      <td>82.0</td>\n",
       "      <td>82.0</td>\n",
       "      <td>82.0</td>\n",
       "      <td>82.0</td>\n",
       "      <td>82.0</td>\n",
       "    </tr>\n",
       "    <tr>\n",
       "      <th>210645</th>\n",
       "      <td>72</td>\n",
       "      <td>C474891377</td>\n",
       "      <td>4</td>\n",
       "      <td>M</td>\n",
       "      <td>28007</td>\n",
       "      <td>M1823072687</td>\n",
       "      <td>28007</td>\n",
       "      <td>es_transportation</td>\n",
       "      <td>17.48</td>\n",
       "      <td>0</td>\n",
       "      <td>...</td>\n",
       "      <td>120.0</td>\n",
       "      <td>105.0</td>\n",
       "      <td>105.0</td>\n",
       "      <td>105.0</td>\n",
       "      <td>120.0</td>\n",
       "      <td>120.0</td>\n",
       "      <td>120.0</td>\n",
       "      <td>120.0</td>\n",
       "      <td>120.0</td>\n",
       "      <td>120.0</td>\n",
       "    </tr>\n",
       "    <tr>\n",
       "      <th>482473</th>\n",
       "      <td>149</td>\n",
       "      <td>C1875710426</td>\n",
       "      <td>3</td>\n",
       "      <td>M</td>\n",
       "      <td>28007</td>\n",
       "      <td>M1823072687</td>\n",
       "      <td>28007</td>\n",
       "      <td>es_transportation</td>\n",
       "      <td>37.05</td>\n",
       "      <td>0</td>\n",
       "      <td>...</td>\n",
       "      <td>126.0</td>\n",
       "      <td>94.0</td>\n",
       "      <td>94.0</td>\n",
       "      <td>94.0</td>\n",
       "      <td>126.0</td>\n",
       "      <td>126.0</td>\n",
       "      <td>126.0</td>\n",
       "      <td>126.0</td>\n",
       "      <td>126.0</td>\n",
       "      <td>126.0</td>\n",
       "    </tr>\n",
       "    <tr>\n",
       "      <th>121015</th>\n",
       "      <td>43</td>\n",
       "      <td>C1590346257</td>\n",
       "      <td>1</td>\n",
       "      <td>F</td>\n",
       "      <td>28007</td>\n",
       "      <td>M1823072687</td>\n",
       "      <td>28007</td>\n",
       "      <td>es_transportation</td>\n",
       "      <td>30.66</td>\n",
       "      <td>0</td>\n",
       "      <td>...</td>\n",
       "      <td>119.0</td>\n",
       "      <td>97.0</td>\n",
       "      <td>97.0</td>\n",
       "      <td>97.0</td>\n",
       "      <td>119.0</td>\n",
       "      <td>119.0</td>\n",
       "      <td>119.0</td>\n",
       "      <td>119.0</td>\n",
       "      <td>119.0</td>\n",
       "      <td>119.0</td>\n",
       "    </tr>\n",
       "  </tbody>\n",
       "</table>\n",
       "<p>10 rows × 504 columns</p>\n",
       "</div>"
      ],
      "text/plain": [
       "        step     customer age gender zipcodeOri     merchant zipMerchant  \\\n",
       "20743      8  C1320820565   2      F      28007   M348934600       28007   \n",
       "340197   110  C1415704373   3      F      28007    M85975013       28007   \n",
       "240705    81   C709211172   4      F      28007  M1823072687       28007   \n",
       "21063      8  C1530262146   2      M      28007  M1823072687       28007   \n",
       "394041   125  C1051712338   4      M      28007  M1823072687       28007   \n",
       "79429     29   C129386345   3      M      28007  M1823072687       28007   \n",
       "524670   161  C1166355595   4      F      28007  M1823072687       28007   \n",
       "210645    72   C474891377   4      M      28007  M1823072687       28007   \n",
       "482473   149  C1875710426   3      M      28007  M1823072687       28007   \n",
       "121015    43  C1590346257   1      F      28007  M1823072687       28007   \n",
       "\n",
       "                 category  amount  fraud  \\\n",
       "20743   es_transportation   30.39      0   \n",
       "340197            es_food   73.62      0   \n",
       "240705  es_transportation   48.76      0   \n",
       "21063   es_transportation   41.51      0   \n",
       "394041  es_transportation   26.27      0   \n",
       "79429   es_transportation   37.32      0   \n",
       "524670  es_transportation    6.47      0   \n",
       "210645  es_transportation   17.48      0   \n",
       "482473  es_transportation   37.05      0   \n",
       "121015  es_transportation   30.66      0   \n",
       "\n",
       "                                 ...                            \\\n",
       "20743                            ...                             \n",
       "340197                           ...                             \n",
       "240705                           ...                             \n",
       "21063                            ...                             \n",
       "394041                           ...                             \n",
       "79429                            ...                             \n",
       "524670                           ...                             \n",
       "210645                           ...                             \n",
       "482473                           ...                             \n",
       "121015                           ...                             \n",
       "\n",
       "        customer_age_gender_merchant_categorystep180amount4000  \\\n",
       "20743                                               145.0        \n",
       "340197                                                6.0        \n",
       "240705                                              109.0        \n",
       "21063                                               117.0        \n",
       "394041                                               58.0        \n",
       "79429                                               130.0        \n",
       "524670                                               82.0        \n",
       "210645                                              120.0        \n",
       "482473                                              126.0        \n",
       "121015                                              119.0        \n",
       "\n",
       "        customer_age_gender_merchant_categorystep45amount150  \\\n",
       "20743                                               118.0      \n",
       "340197                                                3.0      \n",
       "240705                                               92.0      \n",
       "21063                                                98.0      \n",
       "394041                                               45.0      \n",
       "79429                                               107.0      \n",
       "524670                                               65.0      \n",
       "210645                                              105.0      \n",
       "482473                                               94.0      \n",
       "121015                                               97.0      \n",
       "\n",
       "        customer_age_gender_merchant_categorystep45amount1500  \\\n",
       "20743                                               118.0       \n",
       "340197                                                3.0       \n",
       "240705                                               92.0       \n",
       "21063                                                98.0       \n",
       "394041                                               45.0       \n",
       "79429                                               107.0       \n",
       "524670                                               65.0       \n",
       "210645                                              105.0       \n",
       "482473                                               94.0       \n",
       "121015                                               97.0       \n",
       "\n",
       "        customer_age_gender_merchant_categorystep45amount4000  \\\n",
       "20743                                               118.0       \n",
       "340197                                                3.0       \n",
       "240705                                               92.0       \n",
       "21063                                                98.0       \n",
       "394041                                               45.0       \n",
       "79429                                               107.0       \n",
       "524670                                               65.0       \n",
       "210645                                              105.0       \n",
       "482473                                               94.0       \n",
       "121015                                               97.0       \n",
       "\n",
       "        customer_age_gender_merchant_categorystep90amount150  \\\n",
       "20743                                               145.0      \n",
       "340197                                                6.0      \n",
       "240705                                              109.0      \n",
       "21063                                               117.0      \n",
       "394041                                               58.0      \n",
       "79429                                               129.0      \n",
       "524670                                               82.0      \n",
       "210645                                              120.0      \n",
       "482473                                              126.0      \n",
       "121015                                              119.0      \n",
       "\n",
       "        customer_age_gender_merchant_categorystep90amount1500  \\\n",
       "20743                                               145.0       \n",
       "340197                                                6.0       \n",
       "240705                                              109.0       \n",
       "21063                                               117.0       \n",
       "394041                                               58.0       \n",
       "79429                                               129.0       \n",
       "524670                                               82.0       \n",
       "210645                                              120.0       \n",
       "482473                                              126.0       \n",
       "121015                                              119.0       \n",
       "\n",
       "        customer_age_gender_merchant_categorystep90amount4000  \\\n",
       "20743                                               145.0       \n",
       "340197                                                6.0       \n",
       "240705                                              109.0       \n",
       "21063                                               117.0       \n",
       "394041                                               58.0       \n",
       "79429                                               129.0       \n",
       "524670                                               82.0       \n",
       "210645                                              120.0       \n",
       "482473                                              126.0       \n",
       "121015                                              119.0       \n",
       "\n",
       "        customer_age_gender_merchant_categorystep135amount150  \\\n",
       "20743                                               145.0       \n",
       "340197                                                6.0       \n",
       "240705                                              109.0       \n",
       "21063                                               117.0       \n",
       "394041                                               58.0       \n",
       "79429                                               130.0       \n",
       "524670                                               82.0       \n",
       "210645                                              120.0       \n",
       "482473                                              126.0       \n",
       "121015                                              119.0       \n",
       "\n",
       "        customer_age_gender_merchant_categorystep135amount1500  \\\n",
       "20743                                               145.0        \n",
       "340197                                                6.0        \n",
       "240705                                              109.0        \n",
       "21063                                               117.0        \n",
       "394041                                               58.0        \n",
       "79429                                               130.0        \n",
       "524670                                               82.0        \n",
       "210645                                              120.0        \n",
       "482473                                              126.0        \n",
       "121015                                              119.0        \n",
       "\n",
       "        customer_age_gender_merchant_categorystep135amount4000  \n",
       "20743                                               145.0       \n",
       "340197                                                6.0       \n",
       "240705                                              109.0       \n",
       "21063                                               117.0       \n",
       "394041                                               58.0       \n",
       "79429                                               130.0       \n",
       "524670                                               82.0       \n",
       "210645                                              120.0       \n",
       "482473                                              126.0       \n",
       "121015                                              119.0       \n",
       "\n",
       "[10 rows x 504 columns]"
      ]
     },
     "execution_count": 41,
     "metadata": {},
     "output_type": "execute_result"
    }
   ],
   "source": [
    "df_sampled.head(10)"
   ]
  },
  {
   "cell_type": "code",
   "execution_count": 42,
   "metadata": {},
   "outputs": [
    {
     "name": "stdout",
     "output_type": "stream",
     "text": [
      "Accuracy: 98.69%\n"
     ]
    }
   ],
   "source": [
    "from sklearn.model_selection import train_test_split\n",
    "\n",
    "from sklearn import preprocessing\n",
    "le = preprocessing.LabelEncoder()\n",
    "\n",
    "df_sampled.customer = le.fit_transform(df_sampled.customer)\n",
    "df_sampled.age = le.fit_transform(df_sampled.age)\n",
    "df_sampled.gender = le.fit_transform(df_sampled.gender)\n",
    "df_sampled.zipcodeOri = le.fit_transform(df_sampled.zipcodeOri)\n",
    "df_sampled.merchant = le.fit_transform(df_sampled.merchant)\n",
    "df_sampled.zipMerchant = le.fit_transform(df_sampled.zipMerchant)\n",
    "df_sampled.category = le.fit_transform(df_sampled.category)\n",
    "\n",
    "df_y = df_sampled.fraud\n",
    "df_x = df_sampled.drop(columns=[\"fraud\"])\n",
    "\n",
    "X_train, X_test, y_train, y_test = train_test_split(df_x, df_y, test_size=0.10, random_state=8)\n",
    "X_test.to_pickle(\"poc_xtest.pkl\")\n",
    "y_test.to_pickle(\"poc_ytest.pkl\")\n",
    "\n",
    "from xgboost import XGBClassifier\n",
    "model = XGBClassifier()\n",
    "model.fit(X_train, y_train)\n",
    "y_pred = model.predict(X_test)\n",
    "predictions = [round(value) for value in y_pred]\n",
    "from sklearn.metrics import accuracy_score\n",
    "accuracy = accuracy_score(y_test, predictions)\n",
    "print(\"Accuracy: %.2f%%\" % (accuracy * 100.0))"
   ]
  },
  {
   "cell_type": "code",
   "execution_count": 47,
   "metadata": {},
   "outputs": [
    {
     "data": {
      "text/plain": [
       "0.9605982678608378"
      ]
     },
     "execution_count": 47,
     "metadata": {},
     "output_type": "execute_result"
    }
   ],
   "source": [
    "from sklearn.metrics import roc_auc_score\n",
    "roc_auc_score(y_test, y_pred)"
   ]
  },
  {
   "cell_type": "code",
   "execution_count": 46,
   "metadata": {},
   "outputs": [
    {
     "data": {
      "text/plain": [
       "array([[6405,   39],\n",
       "       [  55,  701]])"
      ]
     },
     "execution_count": 46,
     "metadata": {},
     "output_type": "execute_result"
    }
   ],
   "source": [
    "from sklearn.metrics import confusion_matrix\n",
    "confusion_matrix(y_test, predictions)"
   ]
  },
  {
   "cell_type": "code",
   "execution_count": 48,
   "metadata": {},
   "outputs": [
    {
     "name": "stdout",
     "output_type": "stream",
     "text": [
      "Accuracy: 99.14%\n"
     ]
    }
   ],
   "source": [
    "model2 = XGBClassifier(max_depth=6, learning_rate=0.1, n_estimators=1000,\n",
    "                     silent=True, objective='binary:logistic', booster='gbtree',\n",
    "                     n_jobs=5, gamma=0, min_child_weight=1, max_delta_step=0, subsample=1,\n",
    "                     colsample_bytree=1, colsample_bylevel=1, reg_alpha=0, reg_lambda=1, \n",
    "                     scale_pos_weight=0.2,base_score=0.5, random_state=98, seed=None, \n",
    "                      missing=None)\n",
    "model2.fit(X_train, y_train)\n",
    "y_pred = model2.predict(X_test)\n",
    "predictions = [round(value) for value in y_pred]\n",
    "from sklearn.metrics import accuracy_score\n",
    "accuracy = accuracy_score(y_test, predictions)\n",
    "print(\"Accuracy: %.2f%%\" % (accuracy * 100.0))"
   ]
  },
  {
   "cell_type": "code",
   "execution_count": null,
   "metadata": {},
   "outputs": [],
   "source": [
    "import pickle as pk\n",
    "file = open(\"poc_model.model\", \"wb\")\n",
    "pk.dump(model2, file)\n",
    "file.close()"
   ]
  },
  {
   "cell_type": "code",
   "execution_count": 49,
   "metadata": {},
   "outputs": [
    {
     "data": {
      "text/plain": [
       "0.97125417516478973"
      ]
     },
     "execution_count": 49,
     "metadata": {},
     "output_type": "execute_result"
    }
   ],
   "source": [
    "from sklearn.metrics import roc_auc_score\n",
    "roc_auc_score(y_test, y_pred)"
   ]
  },
  {
   "cell_type": "code",
   "execution_count": 50,
   "metadata": {},
   "outputs": [
    {
     "data": {
      "text/plain": [
       "array([[6423,   21],\n",
       "       [  41,  715]])"
      ]
     },
     "execution_count": 50,
     "metadata": {},
     "output_type": "execute_result"
    }
   ],
   "source": [
    "from sklearn.metrics import confusion_matrix\n",
    "confusion_matrix(y_test, predictions)"
   ]
  },
  {
   "cell_type": "code",
   "execution_count": null,
   "metadata": {},
   "outputs": [],
   "source": []
  }
 ],
 "metadata": {
  "kernelspec": {
   "display_name": "Python 3",
   "language": "python",
   "name": "python3"
  },
  "language_info": {
   "codemirror_mode": {
    "name": "ipython",
    "version": 3
   },
   "file_extension": ".py",
   "mimetype": "text/x-python",
   "name": "python",
   "nbconvert_exporter": "python",
   "pygments_lexer": "ipython3",
   "version": "3.5.2"
  },
  "widgets": {
   "state": {},
   "version": "1.1.2"
  }
 },
 "nbformat": 4,
 "nbformat_minor": 2
}
