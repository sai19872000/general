{
 "cells": [
  {
   "cell_type": "code",
   "execution_count": 1,
   "metadata": {},
   "outputs": [],
   "source": [
    "import pandas as pd"
   ]
  },
  {
   "cell_type": "code",
   "execution_count": 2,
   "metadata": {},
   "outputs": [],
   "source": [
    "df = pd.read_csv(\"/home/sai/tejasa/bs140513_032310.csv\")"
   ]
  },
  {
   "cell_type": "code",
   "execution_count": 3,
   "metadata": {},
   "outputs": [
    {
     "data": {
      "text/html": [
       "<div>\n",
       "<style scoped>\n",
       "    .dataframe tbody tr th:only-of-type {\n",
       "        vertical-align: middle;\n",
       "    }\n",
       "\n",
       "    .dataframe tbody tr th {\n",
       "        vertical-align: top;\n",
       "    }\n",
       "\n",
       "    .dataframe thead th {\n",
       "        text-align: right;\n",
       "    }\n",
       "</style>\n",
       "<table border=\"1\" class=\"dataframe\">\n",
       "  <thead>\n",
       "    <tr style=\"text-align: right;\">\n",
       "      <th></th>\n",
       "      <th>step</th>\n",
       "      <th>customer</th>\n",
       "      <th>age</th>\n",
       "      <th>gender</th>\n",
       "      <th>zipcodeOri</th>\n",
       "      <th>merchant</th>\n",
       "      <th>zipMerchant</th>\n",
       "      <th>category</th>\n",
       "      <th>amount</th>\n",
       "      <th>fraud</th>\n",
       "    </tr>\n",
       "  </thead>\n",
       "  <tbody>\n",
       "    <tr>\n",
       "      <th>0</th>\n",
       "      <td>0</td>\n",
       "      <td>'C1093826151'</td>\n",
       "      <td>'4'</td>\n",
       "      <td>'M'</td>\n",
       "      <td>'28007'</td>\n",
       "      <td>'M348934600'</td>\n",
       "      <td>'28007'</td>\n",
       "      <td>'es_transportation'</td>\n",
       "      <td>4.55</td>\n",
       "      <td>0</td>\n",
       "    </tr>\n",
       "    <tr>\n",
       "      <th>1</th>\n",
       "      <td>0</td>\n",
       "      <td>'C352968107'</td>\n",
       "      <td>'2'</td>\n",
       "      <td>'M'</td>\n",
       "      <td>'28007'</td>\n",
       "      <td>'M348934600'</td>\n",
       "      <td>'28007'</td>\n",
       "      <td>'es_transportation'</td>\n",
       "      <td>39.68</td>\n",
       "      <td>0</td>\n",
       "    </tr>\n",
       "    <tr>\n",
       "      <th>2</th>\n",
       "      <td>0</td>\n",
       "      <td>'C2054744914'</td>\n",
       "      <td>'4'</td>\n",
       "      <td>'F'</td>\n",
       "      <td>'28007'</td>\n",
       "      <td>'M1823072687'</td>\n",
       "      <td>'28007'</td>\n",
       "      <td>'es_transportation'</td>\n",
       "      <td>26.89</td>\n",
       "      <td>0</td>\n",
       "    </tr>\n",
       "    <tr>\n",
       "      <th>3</th>\n",
       "      <td>0</td>\n",
       "      <td>'C1760612790'</td>\n",
       "      <td>'3'</td>\n",
       "      <td>'M'</td>\n",
       "      <td>'28007'</td>\n",
       "      <td>'M348934600'</td>\n",
       "      <td>'28007'</td>\n",
       "      <td>'es_transportation'</td>\n",
       "      <td>17.25</td>\n",
       "      <td>0</td>\n",
       "    </tr>\n",
       "    <tr>\n",
       "      <th>4</th>\n",
       "      <td>0</td>\n",
       "      <td>'C757503768'</td>\n",
       "      <td>'5'</td>\n",
       "      <td>'M'</td>\n",
       "      <td>'28007'</td>\n",
       "      <td>'M348934600'</td>\n",
       "      <td>'28007'</td>\n",
       "      <td>'es_transportation'</td>\n",
       "      <td>35.72</td>\n",
       "      <td>0</td>\n",
       "    </tr>\n",
       "  </tbody>\n",
       "</table>\n",
       "</div>"
      ],
      "text/plain": [
       "   step       customer  age gender zipcodeOri       merchant zipMerchant  \\\n",
       "0     0  'C1093826151'  '4'    'M'    '28007'   'M348934600'     '28007'   \n",
       "1     0   'C352968107'  '2'    'M'    '28007'   'M348934600'     '28007'   \n",
       "2     0  'C2054744914'  '4'    'F'    '28007'  'M1823072687'     '28007'   \n",
       "3     0  'C1760612790'  '3'    'M'    '28007'   'M348934600'     '28007'   \n",
       "4     0   'C757503768'  '5'    'M'    '28007'   'M348934600'     '28007'   \n",
       "\n",
       "              category  amount  fraud  \n",
       "0  'es_transportation'    4.55      0  \n",
       "1  'es_transportation'   39.68      0  \n",
       "2  'es_transportation'   26.89      0  \n",
       "3  'es_transportation'   17.25      0  \n",
       "4  'es_transportation'   35.72      0  "
      ]
     },
     "execution_count": 3,
     "metadata": {},
     "output_type": "execute_result"
    }
   ],
   "source": [
    "df.head()"
   ]
  },
  {
   "cell_type": "code",
   "execution_count": 4,
   "metadata": {},
   "outputs": [
    {
     "data": {
      "text/html": [
       "<div>\n",
       "<style scoped>\n",
       "    .dataframe tbody tr th:only-of-type {\n",
       "        vertical-align: middle;\n",
       "    }\n",
       "\n",
       "    .dataframe tbody tr th {\n",
       "        vertical-align: top;\n",
       "    }\n",
       "\n",
       "    .dataframe thead th {\n",
       "        text-align: right;\n",
       "    }\n",
       "</style>\n",
       "<table border=\"1\" class=\"dataframe\">\n",
       "  <thead>\n",
       "    <tr style=\"text-align: right;\">\n",
       "      <th></th>\n",
       "      <th>step</th>\n",
       "      <th>amount</th>\n",
       "      <th>fraud</th>\n",
       "    </tr>\n",
       "  </thead>\n",
       "  <tbody>\n",
       "    <tr>\n",
       "      <th>count</th>\n",
       "      <td>594643.000000</td>\n",
       "      <td>594643.000000</td>\n",
       "      <td>594643.000000</td>\n",
       "    </tr>\n",
       "    <tr>\n",
       "      <th>mean</th>\n",
       "      <td>94.986827</td>\n",
       "      <td>37.890135</td>\n",
       "      <td>0.012108</td>\n",
       "    </tr>\n",
       "    <tr>\n",
       "      <th>std</th>\n",
       "      <td>51.053632</td>\n",
       "      <td>111.402831</td>\n",
       "      <td>0.109369</td>\n",
       "    </tr>\n",
       "    <tr>\n",
       "      <th>min</th>\n",
       "      <td>0.000000</td>\n",
       "      <td>0.000000</td>\n",
       "      <td>0.000000</td>\n",
       "    </tr>\n",
       "    <tr>\n",
       "      <th>25%</th>\n",
       "      <td>52.000000</td>\n",
       "      <td>13.740000</td>\n",
       "      <td>0.000000</td>\n",
       "    </tr>\n",
       "    <tr>\n",
       "      <th>50%</th>\n",
       "      <td>97.000000</td>\n",
       "      <td>26.900000</td>\n",
       "      <td>0.000000</td>\n",
       "    </tr>\n",
       "    <tr>\n",
       "      <th>75%</th>\n",
       "      <td>139.000000</td>\n",
       "      <td>42.540000</td>\n",
       "      <td>0.000000</td>\n",
       "    </tr>\n",
       "    <tr>\n",
       "      <th>max</th>\n",
       "      <td>179.000000</td>\n",
       "      <td>8329.960000</td>\n",
       "      <td>1.000000</td>\n",
       "    </tr>\n",
       "  </tbody>\n",
       "</table>\n",
       "</div>"
      ],
      "text/plain": [
       "                step         amount          fraud\n",
       "count  594643.000000  594643.000000  594643.000000\n",
       "mean       94.986827      37.890135       0.012108\n",
       "std        51.053632     111.402831       0.109369\n",
       "min         0.000000       0.000000       0.000000\n",
       "25%        52.000000      13.740000       0.000000\n",
       "50%        97.000000      26.900000       0.000000\n",
       "75%       139.000000      42.540000       0.000000\n",
       "max       179.000000    8329.960000       1.000000"
      ]
     },
     "execution_count": 4,
     "metadata": {},
     "output_type": "execute_result"
    }
   ],
   "source": [
    "df.describe()"
   ]
  },
  {
   "cell_type": "code",
   "execution_count": 5,
   "metadata": {},
   "outputs": [
    {
     "data": {
      "text/plain": [
       "15"
      ]
     },
     "execution_count": 5,
     "metadata": {},
     "output_type": "execute_result"
    }
   ],
   "source": [
    "len(df.category.unique())"
   ]
  },
  {
   "cell_type": "code",
   "execution_count": 6,
   "metadata": {},
   "outputs": [
    {
     "data": {
      "text/plain": [
       "50"
      ]
     },
     "execution_count": 6,
     "metadata": {},
     "output_type": "execute_result"
    }
   ],
   "source": [
    "len(df.merchant.unique())"
   ]
  },
  {
   "cell_type": "code",
   "execution_count": 7,
   "metadata": {},
   "outputs": [
    {
     "data": {
      "text/plain": [
       "4112"
      ]
     },
     "execution_count": 7,
     "metadata": {},
     "output_type": "execute_result"
    }
   ],
   "source": [
    "len(df.customer.unique())"
   ]
  },
  {
   "cell_type": "code",
   "execution_count": 8,
   "metadata": {},
   "outputs": [
    {
     "data": {
      "text/plain": [
       "<matplotlib.axes._subplots.AxesSubplot at 0x7f4e335eee48>"
      ]
     },
     "execution_count": 8,
     "metadata": {},
     "output_type": "execute_result"
    }
   ],
   "source": [
    "import matplotlib.pyplot as plt\n",
    "df.step.hist()"
   ]
  },
  {
   "cell_type": "code",
   "execution_count": 9,
   "metadata": {},
   "outputs": [
    {
     "data": {
      "text/plain": [
       "8"
      ]
     },
     "execution_count": 9,
     "metadata": {},
     "output_type": "execute_result"
    }
   ],
   "source": [
    "len(df.age.unique())"
   ]
  },
  {
   "cell_type": "code",
   "execution_count": 10,
   "metadata": {},
   "outputs": [
    {
     "data": {
      "text/plain": [
       "array([\"'M'\", \"'F'\", \"'E'\", \"'U'\"], dtype=object)"
      ]
     },
     "execution_count": 10,
     "metadata": {},
     "output_type": "execute_result"
    }
   ],
   "source": [
    "df.gender.unique()"
   ]
  },
  {
   "cell_type": "code",
   "execution_count": 11,
   "metadata": {},
   "outputs": [
    {
     "data": {
      "text/plain": [
       "<matplotlib.axes._subplots.AxesSubplot at 0x7f4e312cf320>"
      ]
     },
     "execution_count": 11,
     "metadata": {},
     "output_type": "execute_result"
    },
    {
     "data": {
      "image/png": "[encoded data removed]",
      "text/plain": [
       "<matplotlib.figure.Figure at 0x7f4e312da198>"
      ]
     },
     "metadata": {
      "needs_background": "light"
     },
     "output_type": "display_data"
    }
   ],
   "source": [
    "df.amount.hist()"
   ]
  },
  {
   "cell_type": "code",
   "execution_count": 12,
   "metadata": {},
   "outputs": [
    {
     "data": {
      "text/plain": [
       "<matplotlib.axes._subplots.AxesSubplot at 0x7f4e2f24cf28>"
      ]
     },
     "execution_count": 12,
     "metadata": {},
     "output_type": "execute_result"
    },
    {
     "data": {
      "image/png": "[encoded data removed]",
      "text/plain": [
       "<matplotlib.figure.Figure at 0x7f4e313048d0>"
      ]
     },
     "metadata": {
      "needs_background": "light"
     },
     "output_type": "display_data"
    }
   ],
   "source": [
    "df[df.amount<300].amount.hist(bins=10)"
   ]
  },
  {
   "cell_type": "code",
   "execution_count": 13,
   "metadata": {},
   "outputs": [
    {
     "data": {
      "text/plain": [
       "<matplotlib.axes._subplots.AxesSubplot at 0x7f4e2f1ef780>"
      ]
     },
     "execution_count": 13,
     "metadata": {},
     "output_type": "execute_result"
    },
    {
     "data": {
      "image/png": "[encoded data removed]",
      "text/plain": [
       "<matplotlib.figure.Figure at 0x7f4e2f1d1860>"
      ]
     },
     "metadata": {
      "needs_background": "light"
     },
     "output_type": "display_data"
    }
   ],
   "source": [
    "df.fraud.hist()"
   ]
  },
  {
   "cell_type": "code",
   "execution_count": 14,
   "metadata": {},
   "outputs": [],
   "source": [
    "df_fraud_only = df[df[\"fraud\"]==1]"
   ]
  },
  {
   "cell_type": "code",
   "execution_count": 15,
   "metadata": {},
   "outputs": [
    {
     "data": {
      "text/html": [
       "<div>\n",
       "<style scoped>\n",
       "    .dataframe tbody tr th:only-of-type {\n",
       "        vertical-align: middle;\n",
       "    }\n",
       "\n",
       "    .dataframe tbody tr th {\n",
       "        vertical-align: top;\n",
       "    }\n",
       "\n",
       "    .dataframe thead th {\n",
       "        text-align: right;\n",
       "    }\n",
       "</style>\n",
       "<table border=\"1\" class=\"dataframe\">\n",
       "  <thead>\n",
       "    <tr style=\"text-align: right;\">\n",
       "      <th></th>\n",
       "      <th>step</th>\n",
       "      <th>customer</th>\n",
       "      <th>age</th>\n",
       "      <th>gender</th>\n",
       "      <th>zipcodeOri</th>\n",
       "      <th>merchant</th>\n",
       "      <th>zipMerchant</th>\n",
       "      <th>category</th>\n",
       "      <th>amount</th>\n",
       "      <th>fraud</th>\n",
       "    </tr>\n",
       "  </thead>\n",
       "  <tbody>\n",
       "    <tr>\n",
       "      <th>88</th>\n",
       "      <td>0</td>\n",
       "      <td>'C583110837'</td>\n",
       "      <td>'3'</td>\n",
       "      <td>'M'</td>\n",
       "      <td>'28007'</td>\n",
       "      <td>'M480139044'</td>\n",
       "      <td>'28007'</td>\n",
       "      <td>'es_health'</td>\n",
       "      <td>44.26</td>\n",
       "      <td>1</td>\n",
       "    </tr>\n",
       "    <tr>\n",
       "      <th>89</th>\n",
       "      <td>0</td>\n",
       "      <td>'C1332295774'</td>\n",
       "      <td>'3'</td>\n",
       "      <td>'M'</td>\n",
       "      <td>'28007'</td>\n",
       "      <td>'M480139044'</td>\n",
       "      <td>'28007'</td>\n",
       "      <td>'es_health'</td>\n",
       "      <td>324.50</td>\n",
       "      <td>1</td>\n",
       "    </tr>\n",
       "    <tr>\n",
       "      <th>434</th>\n",
       "      <td>0</td>\n",
       "      <td>'C1160421902'</td>\n",
       "      <td>'3'</td>\n",
       "      <td>'M'</td>\n",
       "      <td>'28007'</td>\n",
       "      <td>'M857378720'</td>\n",
       "      <td>'28007'</td>\n",
       "      <td>'es_hotelservices'</td>\n",
       "      <td>176.32</td>\n",
       "      <td>1</td>\n",
       "    </tr>\n",
       "    <tr>\n",
       "      <th>435</th>\n",
       "      <td>0</td>\n",
       "      <td>'C966214713'</td>\n",
       "      <td>'3'</td>\n",
       "      <td>'M'</td>\n",
       "      <td>'28007'</td>\n",
       "      <td>'M857378720'</td>\n",
       "      <td>'28007'</td>\n",
       "      <td>'es_hotelservices'</td>\n",
       "      <td>337.41</td>\n",
       "      <td>1</td>\n",
       "    </tr>\n",
       "    <tr>\n",
       "      <th>553</th>\n",
       "      <td>0</td>\n",
       "      <td>'C1450140987'</td>\n",
       "      <td>'4'</td>\n",
       "      <td>'F'</td>\n",
       "      <td>'28007'</td>\n",
       "      <td>'M1198415165'</td>\n",
       "      <td>'28007'</td>\n",
       "      <td>'es_wellnessandbeauty'</td>\n",
       "      <td>220.11</td>\n",
       "      <td>1</td>\n",
       "    </tr>\n",
       "  </tbody>\n",
       "</table>\n",
       "</div>"
      ],
      "text/plain": [
       "     step       customer  age gender zipcodeOri       merchant zipMerchant  \\\n",
       "88      0   'C583110837'  '3'    'M'    '28007'   'M480139044'     '28007'   \n",
       "89      0  'C1332295774'  '3'    'M'    '28007'   'M480139044'     '28007'   \n",
       "434     0  'C1160421902'  '3'    'M'    '28007'   'M857378720'     '28007'   \n",
       "435     0   'C966214713'  '3'    'M'    '28007'   'M857378720'     '28007'   \n",
       "553     0  'C1450140987'  '4'    'F'    '28007'  'M1198415165'     '28007'   \n",
       "\n",
       "                   category  amount  fraud  \n",
       "88              'es_health'   44.26      1  \n",
       "89              'es_health'  324.50      1  \n",
       "434      'es_hotelservices'  176.32      1  \n",
       "435      'es_hotelservices'  337.41      1  \n",
       "553  'es_wellnessandbeauty'  220.11      1  "
      ]
     },
     "execution_count": 15,
     "metadata": {},
     "output_type": "execute_result"
    }
   ],
   "source": [
    "df_fraud_only.head()"
   ]
  },
  {
   "cell_type": "code",
   "execution_count": 16,
   "metadata": {},
   "outputs": [
    {
     "data": {
      "text/plain": [
       "30"
      ]
     },
     "execution_count": 16,
     "metadata": {},
     "output_type": "execute_result"
    }
   ],
   "source": [
    "len(df_fraud_only.merchant.unique())"
   ]
  },
  {
   "cell_type": "code",
   "execution_count": 17,
   "metadata": {},
   "outputs": [
    {
     "data": {
      "text/plain": [
       "1483"
      ]
     },
     "execution_count": 17,
     "metadata": {},
     "output_type": "execute_result"
    }
   ],
   "source": [
    "len(df_fraud_only.customer.unique())"
   ]
  },
  {
   "cell_type": "code",
   "execution_count": 18,
   "metadata": {},
   "outputs": [
    {
     "data": {
      "text/plain": [
       "12"
      ]
     },
     "execution_count": 18,
     "metadata": {},
     "output_type": "execute_result"
    }
   ],
   "source": [
    "len(df_fraud_only.category.unique())"
   ]
  },
  {
   "cell_type": "code",
   "execution_count": 19,
   "metadata": {},
   "outputs": [
    {
     "data": {
      "text/html": [
       "<div>\n",
       "<style scoped>\n",
       "    .dataframe tbody tr th:only-of-type {\n",
       "        vertical-align: middle;\n",
       "    }\n",
       "\n",
       "    .dataframe tbody tr th {\n",
       "        vertical-align: top;\n",
       "    }\n",
       "\n",
       "    .dataframe thead th {\n",
       "        text-align: right;\n",
       "    }\n",
       "</style>\n",
       "<table border=\"1\" class=\"dataframe\">\n",
       "  <thead>\n",
       "    <tr style=\"text-align: right;\">\n",
       "      <th></th>\n",
       "      <th>step</th>\n",
       "      <th>customer</th>\n",
       "      <th>age</th>\n",
       "      <th>gender</th>\n",
       "      <th>zipcodeOri</th>\n",
       "      <th>merchant</th>\n",
       "      <th>zipMerchant</th>\n",
       "      <th>category</th>\n",
       "      <th>amount</th>\n",
       "      <th>fraud</th>\n",
       "    </tr>\n",
       "  </thead>\n",
       "  <tbody>\n",
       "    <tr>\n",
       "      <th>88</th>\n",
       "      <td>0</td>\n",
       "      <td>'C583110837'</td>\n",
       "      <td>'3'</td>\n",
       "      <td>'M'</td>\n",
       "      <td>'28007'</td>\n",
       "      <td>'M480139044'</td>\n",
       "      <td>'28007'</td>\n",
       "      <td>'es_health'</td>\n",
       "      <td>44.26</td>\n",
       "      <td>1</td>\n",
       "    </tr>\n",
       "    <tr>\n",
       "      <th>89</th>\n",
       "      <td>0</td>\n",
       "      <td>'C1332295774'</td>\n",
       "      <td>'3'</td>\n",
       "      <td>'M'</td>\n",
       "      <td>'28007'</td>\n",
       "      <td>'M480139044'</td>\n",
       "      <td>'28007'</td>\n",
       "      <td>'es_health'</td>\n",
       "      <td>324.50</td>\n",
       "      <td>1</td>\n",
       "    </tr>\n",
       "    <tr>\n",
       "      <th>434</th>\n",
       "      <td>0</td>\n",
       "      <td>'C1160421902'</td>\n",
       "      <td>'3'</td>\n",
       "      <td>'M'</td>\n",
       "      <td>'28007'</td>\n",
       "      <td>'M857378720'</td>\n",
       "      <td>'28007'</td>\n",
       "      <td>'es_hotelservices'</td>\n",
       "      <td>176.32</td>\n",
       "      <td>1</td>\n",
       "    </tr>\n",
       "    <tr>\n",
       "      <th>435</th>\n",
       "      <td>0</td>\n",
       "      <td>'C966214713'</td>\n",
       "      <td>'3'</td>\n",
       "      <td>'M'</td>\n",
       "      <td>'28007'</td>\n",
       "      <td>'M857378720'</td>\n",
       "      <td>'28007'</td>\n",
       "      <td>'es_hotelservices'</td>\n",
       "      <td>337.41</td>\n",
       "      <td>1</td>\n",
       "    </tr>\n",
       "    <tr>\n",
       "      <th>553</th>\n",
       "      <td>0</td>\n",
       "      <td>'C1450140987'</td>\n",
       "      <td>'4'</td>\n",
       "      <td>'F'</td>\n",
       "      <td>'28007'</td>\n",
       "      <td>'M1198415165'</td>\n",
       "      <td>'28007'</td>\n",
       "      <td>'es_wellnessandbeauty'</td>\n",
       "      <td>220.11</td>\n",
       "      <td>1</td>\n",
       "    </tr>\n",
       "    <tr>\n",
       "      <th>554</th>\n",
       "      <td>0</td>\n",
       "      <td>'C60026962'</td>\n",
       "      <td>'2'</td>\n",
       "      <td>'F'</td>\n",
       "      <td>'28007'</td>\n",
       "      <td>'M1198415165'</td>\n",
       "      <td>'28007'</td>\n",
       "      <td>'es_wellnessandbeauty'</td>\n",
       "      <td>4.32</td>\n",
       "      <td>1</td>\n",
       "    </tr>\n",
       "    <tr>\n",
       "      <th>604</th>\n",
       "      <td>0</td>\n",
       "      <td>'C1685492470'</td>\n",
       "      <td>'2'</td>\n",
       "      <td>'F'</td>\n",
       "      <td>'28007'</td>\n",
       "      <td>'M980657600'</td>\n",
       "      <td>'28007'</td>\n",
       "      <td>'es_sportsandtoys'</td>\n",
       "      <td>278.02</td>\n",
       "      <td>1</td>\n",
       "    </tr>\n",
       "    <tr>\n",
       "      <th>605</th>\n",
       "      <td>0</td>\n",
       "      <td>'C1275518867'</td>\n",
       "      <td>'5'</td>\n",
       "      <td>'F'</td>\n",
       "      <td>'28007'</td>\n",
       "      <td>'M980657600'</td>\n",
       "      <td>'28007'</td>\n",
       "      <td>'es_sportsandtoys'</td>\n",
       "      <td>69.53</td>\n",
       "      <td>1</td>\n",
       "    </tr>\n",
       "    <tr>\n",
       "      <th>801</th>\n",
       "      <td>0</td>\n",
       "      <td>'C1734487337'</td>\n",
       "      <td>'4'</td>\n",
       "      <td>'F'</td>\n",
       "      <td>'28007'</td>\n",
       "      <td>'M1741626453'</td>\n",
       "      <td>'28007'</td>\n",
       "      <td>'es_sportsandtoys'</td>\n",
       "      <td>70.15</td>\n",
       "      <td>1</td>\n",
       "    </tr>\n",
       "    <tr>\n",
       "      <th>802</th>\n",
       "      <td>0</td>\n",
       "      <td>'C204205576'</td>\n",
       "      <td>'3'</td>\n",
       "      <td>'F'</td>\n",
       "      <td>'28007'</td>\n",
       "      <td>'M1741626453'</td>\n",
       "      <td>'28007'</td>\n",
       "      <td>'es_sportsandtoys'</td>\n",
       "      <td>238.82</td>\n",
       "      <td>1</td>\n",
       "    </tr>\n",
       "    <tr>\n",
       "      <th>853</th>\n",
       "      <td>0</td>\n",
       "      <td>'C583110837'</td>\n",
       "      <td>'3'</td>\n",
       "      <td>'M'</td>\n",
       "      <td>'28007'</td>\n",
       "      <td>'M480139044'</td>\n",
       "      <td>'28007'</td>\n",
       "      <td>'es_health'</td>\n",
       "      <td>667.09</td>\n",
       "      <td>1</td>\n",
       "    </tr>\n",
       "    <tr>\n",
       "      <th>854</th>\n",
       "      <td>0</td>\n",
       "      <td>'C1079254393'</td>\n",
       "      <td>'1'</td>\n",
       "      <td>'F'</td>\n",
       "      <td>'28007'</td>\n",
       "      <td>'M480139044'</td>\n",
       "      <td>'28007'</td>\n",
       "      <td>'es_health'</td>\n",
       "      <td>520.50</td>\n",
       "      <td>1</td>\n",
       "    </tr>\n",
       "    <tr>\n",
       "      <th>920</th>\n",
       "      <td>0</td>\n",
       "      <td>'C330615170'</td>\n",
       "      <td>'2'</td>\n",
       "      <td>'F'</td>\n",
       "      <td>'28007'</td>\n",
       "      <td>'M1535107174'</td>\n",
       "      <td>'28007'</td>\n",
       "      <td>'es_wellnessandbeauty'</td>\n",
       "      <td>190.53</td>\n",
       "      <td>1</td>\n",
       "    </tr>\n",
       "    <tr>\n",
       "      <th>921</th>\n",
       "      <td>0</td>\n",
       "      <td>'C330615170'</td>\n",
       "      <td>'2'</td>\n",
       "      <td>'F'</td>\n",
       "      <td>'28007'</td>\n",
       "      <td>'M1535107174'</td>\n",
       "      <td>'28007'</td>\n",
       "      <td>'es_wellnessandbeauty'</td>\n",
       "      <td>451.92</td>\n",
       "      <td>1</td>\n",
       "    </tr>\n",
       "    <tr>\n",
       "      <th>1004</th>\n",
       "      <td>0</td>\n",
       "      <td>'C1275518867'</td>\n",
       "      <td>'5'</td>\n",
       "      <td>'F'</td>\n",
       "      <td>'28007'</td>\n",
       "      <td>'M980657600'</td>\n",
       "      <td>'28007'</td>\n",
       "      <td>'es_sportsandtoys'</td>\n",
       "      <td>305.11</td>\n",
       "      <td>1</td>\n",
       "    </tr>\n",
       "    <tr>\n",
       "      <th>1005</th>\n",
       "      <td>0</td>\n",
       "      <td>'C1685492470'</td>\n",
       "      <td>'2'</td>\n",
       "      <td>'F'</td>\n",
       "      <td>'28007'</td>\n",
       "      <td>'M980657600'</td>\n",
       "      <td>'28007'</td>\n",
       "      <td>'es_sportsandtoys'</td>\n",
       "      <td>764.00</td>\n",
       "      <td>1</td>\n",
       "    </tr>\n",
       "    <tr>\n",
       "      <th>1118</th>\n",
       "      <td>0</td>\n",
       "      <td>'C1038215695'</td>\n",
       "      <td>'4'</td>\n",
       "      <td>'M'</td>\n",
       "      <td>'28007'</td>\n",
       "      <td>'M2122776122'</td>\n",
       "      <td>'28007'</td>\n",
       "      <td>'es_home'</td>\n",
       "      <td>328.02</td>\n",
       "      <td>1</td>\n",
       "    </tr>\n",
       "    <tr>\n",
       "      <th>1119</th>\n",
       "      <td>0</td>\n",
       "      <td>'C1764447156'</td>\n",
       "      <td>'3'</td>\n",
       "      <td>'F'</td>\n",
       "      <td>'28007'</td>\n",
       "      <td>'M2122776122'</td>\n",
       "      <td>'28007'</td>\n",
       "      <td>'es_home'</td>\n",
       "      <td>707.22</td>\n",
       "      <td>1</td>\n",
       "    </tr>\n",
       "    <tr>\n",
       "      <th>1169</th>\n",
       "      <td>0</td>\n",
       "      <td>'C555482626'</td>\n",
       "      <td>'3'</td>\n",
       "      <td>'F'</td>\n",
       "      <td>'28007'</td>\n",
       "      <td>'M209847108'</td>\n",
       "      <td>'28007'</td>\n",
       "      <td>'es_wellnessandbeauty'</td>\n",
       "      <td>198.58</td>\n",
       "      <td>1</td>\n",
       "    </tr>\n",
       "    <tr>\n",
       "      <th>1170</th>\n",
       "      <td>0</td>\n",
       "      <td>'C792341594'</td>\n",
       "      <td>'3'</td>\n",
       "      <td>'M'</td>\n",
       "      <td>'28007'</td>\n",
       "      <td>'M209847108'</td>\n",
       "      <td>'28007'</td>\n",
       "      <td>'es_wellnessandbeauty'</td>\n",
       "      <td>304.21</td>\n",
       "      <td>1</td>\n",
       "    </tr>\n",
       "  </tbody>\n",
       "</table>\n",
       "</div>"
      ],
      "text/plain": [
       "      step       customer  age gender zipcodeOri       merchant zipMerchant  \\\n",
       "88       0   'C583110837'  '3'    'M'    '28007'   'M480139044'     '28007'   \n",
       "89       0  'C1332295774'  '3'    'M'    '28007'   'M480139044'     '28007'   \n",
       "434      0  'C1160421902'  '3'    'M'    '28007'   'M857378720'     '28007'   \n",
       "435      0   'C966214713'  '3'    'M'    '28007'   'M857378720'     '28007'   \n",
       "553      0  'C1450140987'  '4'    'F'    '28007'  'M1198415165'     '28007'   \n",
       "554      0    'C60026962'  '2'    'F'    '28007'  'M1198415165'     '28007'   \n",
       "604      0  'C1685492470'  '2'    'F'    '28007'   'M980657600'     '28007'   \n",
       "605      0  'C1275518867'  '5'    'F'    '28007'   'M980657600'     '28007'   \n",
       "801      0  'C1734487337'  '4'    'F'    '28007'  'M1741626453'     '28007'   \n",
       "802      0   'C204205576'  '3'    'F'    '28007'  'M1741626453'     '28007'   \n",
       "853      0   'C583110837'  '3'    'M'    '28007'   'M480139044'     '28007'   \n",
       "854      0  'C1079254393'  '1'    'F'    '28007'   'M480139044'     '28007'   \n",
       "920      0   'C330615170'  '2'    'F'    '28007'  'M1535107174'     '28007'   \n",
       "921      0   'C330615170'  '2'    'F'    '28007'  'M1535107174'     '28007'   \n",
       "1004     0  'C1275518867'  '5'    'F'    '28007'   'M980657600'     '28007'   \n",
       "1005     0  'C1685492470'  '2'    'F'    '28007'   'M980657600'     '28007'   \n",
       "1118     0  'C1038215695'  '4'    'M'    '28007'  'M2122776122'     '28007'   \n",
       "1119     0  'C1764447156'  '3'    'F'    '28007'  'M2122776122'     '28007'   \n",
       "1169     0   'C555482626'  '3'    'F'    '28007'   'M209847108'     '28007'   \n",
       "1170     0   'C792341594'  '3'    'M'    '28007'   'M209847108'     '28007'   \n",
       "\n",
       "                    category  amount  fraud  \n",
       "88               'es_health'   44.26      1  \n",
       "89               'es_health'  324.50      1  \n",
       "434       'es_hotelservices'  176.32      1  \n",
       "435       'es_hotelservices'  337.41      1  \n",
       "553   'es_wellnessandbeauty'  220.11      1  \n",
       "554   'es_wellnessandbeauty'    4.32      1  \n",
       "604       'es_sportsandtoys'  278.02      1  \n",
       "605       'es_sportsandtoys'   69.53      1  \n",
       "801       'es_sportsandtoys'   70.15      1  \n",
       "802       'es_sportsandtoys'  238.82      1  \n",
       "853              'es_health'  667.09      1  \n",
       "854              'es_health'  520.50      1  \n",
       "920   'es_wellnessandbeauty'  190.53      1  \n",
       "921   'es_wellnessandbeauty'  451.92      1  \n",
       "1004      'es_sportsandtoys'  305.11      1  \n",
       "1005      'es_sportsandtoys'  764.00      1  \n",
       "1118               'es_home'  328.02      1  \n",
       "1119               'es_home'  707.22      1  \n",
       "1169  'es_wellnessandbeauty'  198.58      1  \n",
       "1170  'es_wellnessandbeauty'  304.21      1  "
      ]
     },
     "execution_count": 19,
     "metadata": {},
     "output_type": "execute_result"
    }
   ],
   "source": [
    "df_fraud_only.head(20)"
   ]
  },
  {
   "cell_type": "code",
   "execution_count": 20,
   "metadata": {},
   "outputs": [
    {
     "data": {
      "text/plain": [
       "<matplotlib.axes._subplots.AxesSubplot at 0x7f4e2f188160>"
      ]
     },
     "execution_count": 20,
     "metadata": {},
     "output_type": "execute_result"
    },
    {
     "data": {
      "image/png": "[encoded data removed]",
      "text/plain": [
       "<matplotlib.figure.Figure at 0x7f4e2f1b1ba8>"
      ]
     },
     "metadata": {
      "needs_background": "light"
     },
     "output_type": "display_data"
    }
   ],
   "source": [
    "df_fraud_only[df_fraud_only.amount<2000].amount.hist(bins=10)"
   ]
  },
  {
   "cell_type": "code",
   "execution_count": 21,
   "metadata": {},
   "outputs": [
    {
     "data": {
      "text/plain": [
       "array([\"'C1093826151'\", \"'C352968107'\", \"'C2054744914'\", ...,\n",
       "       \"'C1014783484'\", \"'C849065220'\", \"'C1809646275'\"], dtype=object)"
      ]
     },
     "execution_count": 21,
     "metadata": {},
     "output_type": "execute_result"
    }
   ],
   "source": [
    "df.customer.unique()"
   ]
  },
  {
   "cell_type": "code",
   "execution_count": 22,
   "metadata": {},
   "outputs": [
    {
     "data": {
      "text/plain": [
       "Index(['step', 'customer', 'age', 'gender', 'zipcodeOri', 'merchant',\n",
       "       'zipMerchant', 'category', 'amount', 'fraud'],\n",
       "      dtype='object')"
      ]
     },
     "execution_count": 22,
     "metadata": {},
     "output_type": "execute_result"
    }
   ],
   "source": [
    "df.columns"
   ]
  },
  {
   "cell_type": "code",
   "execution_count": 23,
   "metadata": {},
   "outputs": [],
   "source": [
    "for col in ['customer', 'age', 'gender', 'zipcodeOri', 'merchant', 'zipMerchant', 'category']:\n",
    "    df[col] = df[col].astype('object')"
   ]
  },
  {
   "cell_type": "code",
   "execution_count": 24,
   "metadata": {},
   "outputs": [
    {
     "data": {
      "text/plain": [
       "step             int64\n",
       "customer        object\n",
       "age             object\n",
       "gender          object\n",
       "zipcodeOri      object\n",
       "merchant        object\n",
       "zipMerchant     object\n",
       "category        object\n",
       "amount         float64\n",
       "fraud            int64\n",
       "dtype: object"
      ]
     },
     "execution_count": 24,
     "metadata": {},
     "output_type": "execute_result"
    }
   ],
   "source": [
    "df.dtypes"
   ]
  },
  {
   "cell_type": "code",
   "execution_count": 25,
   "metadata": {},
   "outputs": [],
   "source": [
    "df = df.replace({\"\"\"'\"\"\":\"\"\"\"\"\"}, regex=True)"
   ]
  },
  {
   "cell_type": "code",
   "execution_count": 26,
   "metadata": {},
   "outputs": [
    {
     "data": {
      "text/html": [
       "<div>\n",
       "<style scoped>\n",
       "    .dataframe tbody tr th:only-of-type {\n",
       "        vertical-align: middle;\n",
       "    }\n",
       "\n",
       "    .dataframe tbody tr th {\n",
       "        vertical-align: top;\n",
       "    }\n",
       "\n",
       "    .dataframe thead th {\n",
       "        text-align: right;\n",
       "    }\n",
       "</style>\n",
       "<table border=\"1\" class=\"dataframe\">\n",
       "  <thead>\n",
       "    <tr style=\"text-align: right;\">\n",
       "      <th></th>\n",
       "      <th>step</th>\n",
       "      <th>customer</th>\n",
       "      <th>age</th>\n",
       "      <th>gender</th>\n",
       "      <th>zipcodeOri</th>\n",
       "      <th>merchant</th>\n",
       "      <th>zipMerchant</th>\n",
       "      <th>category</th>\n",
       "      <th>amount</th>\n",
       "      <th>fraud</th>\n",
       "    </tr>\n",
       "  </thead>\n",
       "  <tbody>\n",
       "    <tr>\n",
       "      <th>0</th>\n",
       "      <td>0</td>\n",
       "      <td>C1093826151</td>\n",
       "      <td>4</td>\n",
       "      <td>M</td>\n",
       "      <td>28007</td>\n",
       "      <td>M348934600</td>\n",
       "      <td>28007</td>\n",
       "      <td>es_transportation</td>\n",
       "      <td>4.55</td>\n",
       "      <td>0</td>\n",
       "    </tr>\n",
       "    <tr>\n",
       "      <th>1</th>\n",
       "      <td>0</td>\n",
       "      <td>C352968107</td>\n",
       "      <td>2</td>\n",
       "      <td>M</td>\n",
       "      <td>28007</td>\n",
       "      <td>M348934600</td>\n",
       "      <td>28007</td>\n",
       "      <td>es_transportation</td>\n",
       "      <td>39.68</td>\n",
       "      <td>0</td>\n",
       "    </tr>\n",
       "    <tr>\n",
       "      <th>2</th>\n",
       "      <td>0</td>\n",
       "      <td>C2054744914</td>\n",
       "      <td>4</td>\n",
       "      <td>F</td>\n",
       "      <td>28007</td>\n",
       "      <td>M1823072687</td>\n",
       "      <td>28007</td>\n",
       "      <td>es_transportation</td>\n",
       "      <td>26.89</td>\n",
       "      <td>0</td>\n",
       "    </tr>\n",
       "    <tr>\n",
       "      <th>3</th>\n",
       "      <td>0</td>\n",
       "      <td>C1760612790</td>\n",
       "      <td>3</td>\n",
       "      <td>M</td>\n",
       "      <td>28007</td>\n",
       "      <td>M348934600</td>\n",
       "      <td>28007</td>\n",
       "      <td>es_transportation</td>\n",
       "      <td>17.25</td>\n",
       "      <td>0</td>\n",
       "    </tr>\n",
       "    <tr>\n",
       "      <th>4</th>\n",
       "      <td>0</td>\n",
       "      <td>C757503768</td>\n",
       "      <td>5</td>\n",
       "      <td>M</td>\n",
       "      <td>28007</td>\n",
       "      <td>M348934600</td>\n",
       "      <td>28007</td>\n",
       "      <td>es_transportation</td>\n",
       "      <td>35.72</td>\n",
       "      <td>0</td>\n",
       "    </tr>\n",
       "  </tbody>\n",
       "</table>\n",
       "</div>"
      ],
      "text/plain": [
       "   step     customer age gender zipcodeOri     merchant zipMerchant  \\\n",
       "0     0  C1093826151   4      M      28007   M348934600       28007   \n",
       "1     0   C352968107   2      M      28007   M348934600       28007   \n",
       "2     0  C2054744914   4      F      28007  M1823072687       28007   \n",
       "3     0  C1760612790   3      M      28007   M348934600       28007   \n",
       "4     0   C757503768   5      M      28007   M348934600       28007   \n",
       "\n",
       "            category  amount  fraud  \n",
       "0  es_transportation    4.55      0  \n",
       "1  es_transportation   39.68      0  \n",
       "2  es_transportation   26.89      0  \n",
       "3  es_transportation   17.25      0  \n",
       "4  es_transportation   35.72      0  "
      ]
     },
     "execution_count": 26,
     "metadata": {},
     "output_type": "execute_result"
    }
   ],
   "source": [
    "df.head()"
   ]
  },
  {
   "cell_type": "code",
   "execution_count": 27,
   "metadata": {},
   "outputs": [
    {
     "data": {
      "text/plain": [
       "154"
      ]
     },
     "execution_count": 27,
     "metadata": {},
     "output_type": "execute_result"
    }
   ],
   "source": [
    "len(df[(df[\"customer\"]==\"C1093826151\") & (df[\"merchant\"]==\"M348934600\")])"
   ]
  },
  {
   "cell_type": "code",
   "execution_count": 28,
   "metadata": {},
   "outputs": [
    {
     "data": {
      "text/plain": [
       "36"
      ]
     },
     "execution_count": 28,
     "metadata": {},
     "output_type": "execute_result"
    }
   ],
   "source": [
    "len(df[(df[\"customer\"]==\"C1093826151\") & (df[\"merchant\"]==\"M348934600\") & (df[\"step\"]<45)])"
   ]
  },
  {
   "cell_type": "code",
   "execution_count": 29,
   "metadata": {},
   "outputs": [],
   "source": [
    "#df.loc[(df[\"customer\"]==\"C1093826151\") & (df[\"merchant\"]==\"M348934600\") & (df[\"step\"]<45),'cust_merch_45']=1 "
   ]
  },
  {
   "cell_type": "code",
   "execution_count": 30,
   "metadata": {},
   "outputs": [
    {
     "name": "stdout",
     "output_type": "stream",
     "text": [
      "(180, 150)\n",
      "(180, 1500)\n",
      "(180, 4000)\n",
      "(45, 150)\n",
      "(45, 1500)\n",
      "(45, 4000)\n",
      "(90, 150)\n",
      "(90, 1500)\n",
      "(90, 4000)\n",
      "(135, 150)\n",
      "(135, 1500)\n",
      "(135, 4000)\n"
     ]
    }
   ],
   "source": [
    "cols1 = [180,45,90,135]\n",
    "cols2 = [150,1500,4000]\n",
    "import itertools\n",
    "for combination in itertools.product(cols1,cols2):\n",
    "    print(combination)"
   ]
  },
  {
   "cell_type": "code",
   "execution_count": null,
   "metadata": {},
   "outputs": [],
   "source": []
  },
  {
   "cell_type": "code",
   "execution_count": 31,
   "metadata": {},
   "outputs": [
    {
     "data": {
      "text/plain": [
       "179"
      ]
     },
     "execution_count": 31,
     "metadata": {},
     "output_type": "execute_result"
    }
   ],
   "source": [
    "df.step.max()"
   ]
  },
  {
   "cell_type": "code",
   "execution_count": 32,
   "metadata": {},
   "outputs": [],
   "source": [
    "cols = ['customer','age','gender','merchant','category','amount']"
   ]
  },
  {
   "cell_type": "code",
   "execution_count": 33,
   "metadata": {},
   "outputs": [
    {
     "name": "stdout",
     "output_type": "stream",
     "text": [
      "('customer', 'age')\n",
      "('customer', 'gender')\n",
      "('customer', 'merchant')\n",
      "('customer', 'category')\n",
      "('customer', 'amount')\n",
      "('age', 'gender')\n",
      "('age', 'merchant')\n",
      "('age', 'category')\n",
      "('age', 'amount')\n",
      "('gender', 'merchant')\n",
      "('gender', 'category')\n",
      "('gender', 'amount')\n",
      "('merchant', 'category')\n",
      "('merchant', 'amount')\n",
      "('category', 'amount')\n"
     ]
    }
   ],
   "source": [
    "import itertools\n",
    "for combination in itertools.combinations(cols,2):\n",
    "    print(combination)"
   ]
  },
  {
   "cell_type": "code",
   "execution_count": 34,
   "metadata": {},
   "outputs": [
    {
     "name": "stdout",
     "output_type": "stream",
     "text": [
      "customer age\n",
      "customer gender\n",
      "customer merchant\n",
      "customer category\n",
      "age gender\n",
      "age merchant\n",
      "age category\n",
      "gender merchant\n",
      "gender category\n",
      "merchant category\n"
     ]
    }
   ],
   "source": [
    "cols_cat = ['customer','age','gender','merchant','category']\n",
    "for combination in itertools.combinations(cols_cat,2):\n",
    "\n",
    "    cust_merch_all = df.groupby([combination[0],combination[1]]).size()\n",
    "    df_cust_merch_all = cust_merch_all.to_frame()\n",
    "    df_cust_merch_all = df_cust_merch_all.rename(index=str, columns={0: combination[0]+\"_\"+combination[1]+\"_all\"})\n",
    "    df = pd.merge(df, df_cust_merch_all, on=[combination[0],combination[1]], how='left')\n",
    "    \n",
    "    cust_merch_all = df[df.step < 45].groupby([combination[0],combination[1]]).size()\n",
    "    df_cust_merch_all = cust_merch_all.to_frame()\n",
    "    df_cust_merch_all = df_cust_merch_all.rename(index=str, columns={0: combination[0]+\"_\"+combination[1]+\"_step45\"})\n",
    "    df = pd.merge(df, df_cust_merch_all, on=[combination[0],combination[1]], how='left')\n",
    "    \n",
    "    cust_merch_all = df[df.step < 90].groupby([combination[0],combination[1]]).size()\n",
    "    df_cust_merch_all = cust_merch_all.to_frame()\n",
    "    df_cust_merch_all = df_cust_merch_all.rename(index=str, columns={0: combination[0]+\"_\"+combination[1]+\"_step90\"})\n",
    "    df = pd.merge(df, df_cust_merch_all, on=[combination[0],combination[1]], how='left')\n",
    "\n",
    "    cust_merch_all = df[df.step < 135].groupby([combination[0],combination[1]]).size()\n",
    "    df_cust_merch_all = cust_merch_all.to_frame()\n",
    "    df_cust_merch_all = df_cust_merch_all.rename(index=str, columns={0: combination[0]+\"_\"+combination[1]+\"_step135\"})\n",
    "    df = pd.merge(df, df_cust_merch_all, on=[combination[0],combination[1]], how='left')\n",
    "\n",
    "    cust_merch_all = df[df.amount <= 150].groupby([combination[0],combination[1]]).size()\n",
    "    df_cust_merch_all = cust_merch_all.to_frame()\n",
    "    df_cust_merch_all = df_cust_merch_all.rename(index=str, columns={0: combination[0]+\"_\"+combination[1]+\"_amount150\"})\n",
    "    df = pd.merge(df, df_cust_merch_all, on=[combination[0],combination[1]], how='left')\n",
    "\n",
    "    \n",
    "    cust_merch_all = df[df.amount <= 1500].groupby([combination[0],combination[1]]).size()\n",
    "    df_cust_merch_all = cust_merch_all.to_frame()\n",
    "    df_cust_merch_all = df_cust_merch_all.rename(index=str, columns={0: combination[0]+\"_\"+combination[1]+\"_amount1500\"})\n",
    "    df = pd.merge(df, df_cust_merch_all, on=[combination[0],combination[1]], how='left')\n",
    "\n",
    "    \n",
    "    cust_merch_all = df[df.amount <= 4000].groupby([combination[0],combination[1]]).size()\n",
    "    df_cust_merch_all = cust_merch_all.to_frame()\n",
    "    df_cust_merch_all = df_cust_merch_all.rename(index=str, columns={0: combination[0]+\"_\"+combination[1]+\"_amount4000\"})\n",
    "    df = pd.merge(df, df_cust_merch_all, on=[combination[0],combination[1]], how='left')\n",
    "\n",
    "    \n",
    "    cols1 = [180,45,90,135]\n",
    "    cols2 = [150,1500,4000]\n",
    "\n",
    "    for combi2 in itertools.product(cols1,cols2):\n",
    "        cust_merch_all = df[(df.amount < combi2[0])&(df.amount <= combi2[1])].groupby([combination[0],combination[1]]).size()\n",
    "        df_cust_merch_all = cust_merch_all.to_frame()\n",
    "        df_cust_merch_all = df_cust_merch_all.rename(index=str, columns={0: combination[0]+\"_\"+combination[1]+\"step\"+str(combi2[0])+\"amount\"+str(combi2[1])})\n",
    "        df = pd.merge(df, df_cust_merch_all, on=[combination[0],combination[1]], how='left')\n",
    "\n",
    "    print(combination[0],combination[1])"
   ]
  },
  {
   "cell_type": "code",
   "execution_count": 35,
   "metadata": {},
   "outputs": [
    {
     "name": "stdout",
     "output_type": "stream",
     "text": [
      "customer age gender\n",
      "customer age merchant\n",
      "customer age category\n",
      "customer gender merchant\n",
      "customer gender category\n",
      "customer merchant category\n",
      "age gender merchant\n",
      "age gender category\n",
      "age merchant category\n",
      "gender merchant category\n"
     ]
    }
   ],
   "source": [
    "cols_cat = ['customer','age','gender','merchant','category']\n",
    "for combination in itertools.combinations(cols_cat,3):\n",
    "\n",
    "    cust_merch_all = df.groupby([combination[0],combination[1],combination[2]]).size()\n",
    "    df_cust_merch_all = cust_merch_all.to_frame()\n",
    "    df_cust_merch_all = df_cust_merch_all.rename(index=str, columns={0: combination[0]+\"_\"+combination[1]+\"_\"+combination[2]+\"_all\"})\n",
    "    df = pd.merge(df, df_cust_merch_all, on=[combination[0],combination[1],combination[2]], how='left')\n",
    "    \n",
    "    cust_merch_all = df[df.step < 45].groupby([combination[0],combination[1],combination[2]]).size()\n",
    "    df_cust_merch_all = cust_merch_all.to_frame()\n",
    "    df_cust_merch_all = df_cust_merch_all.rename(index=str, columns={0: combination[0]+\"_\"+combination[1]+\"_\"+combination[2]+\"_step45\"})\n",
    "    df = pd.merge(df, df_cust_merch_all, on=[combination[0],combination[1],combination[2]], how='left')\n",
    "    \n",
    "    cust_merch_all = df[df.step < 90].groupby([combination[0],combination[1],combination[2]]).size()\n",
    "    df_cust_merch_all = cust_merch_all.to_frame()\n",
    "    df_cust_merch_all = df_cust_merch_all.rename(index=str, columns={0: combination[0]+\"_\"+combination[1]+\"_\"+combination[2]+\"_step90\"})\n",
    "    df = pd.merge(df, df_cust_merch_all, on=[combination[0],combination[1],combination[2]], how='left')\n",
    "\n",
    "    cust_merch_all = df[df.step < 135].groupby([combination[0],combination[1],combination[2]]).size()\n",
    "    df_cust_merch_all = cust_merch_all.to_frame()\n",
    "    df_cust_merch_all = df_cust_merch_all.rename(index=str, columns={0: combination[0]+\"_\"+combination[1]+\"_\"+combination[2]+\"_step135\"})\n",
    "    df = pd.merge(df, df_cust_merch_all, on=[combination[0],combination[1],combination[2]], how='left')\n",
    "\n",
    "    cust_merch_all = df[df.amount <= 150].groupby([combination[0],combination[1],combination[2]]).size()\n",
    "    df_cust_merch_all = cust_merch_all.to_frame()\n",
    "    df_cust_merch_all = df_cust_merch_all.rename(index=str, columns={0: combination[0]+\"_\"+combination[1]+\"_\"+combination[2]+\"_amount150\"})\n",
    "    df = pd.merge(df, df_cust_merch_all, on=[combination[0],combination[1],combination[2]], how='left')\n",
    "\n",
    "    \n",
    "    cust_merch_all = df[df.amount <= 1500].groupby([combination[0],combination[1],combination[2]]).size()\n",
    "    df_cust_merch_all = cust_merch_all.to_frame()\n",
    "    df_cust_merch_all = df_cust_merch_all.rename(index=str, columns={0: combination[0]+\"_\"+combination[1]+\"_\"+combination[2]+\"_amount1500\"})\n",
    "    df = pd.merge(df, df_cust_merch_all, on=[combination[0],combination[1],combination[2]], how='left')\n",
    "\n",
    "    \n",
    "    cust_merch_all = df[df.amount <= 4000].groupby([combination[0],combination[1],combination[2]]).size()\n",
    "    df_cust_merch_all = cust_merch_all.to_frame()\n",
    "    df_cust_merch_all = df_cust_merch_all.rename(index=str, columns={0: combination[0]+\"_\"+combination[1]+\"_\"+combination[2]+\"_amount4000\"})\n",
    "    df = pd.merge(df, df_cust_merch_all, on=[combination[0],combination[1],combination[2]], how='left')\n",
    "\n",
    "    \n",
    "    cols1 = [180,45,90,135]\n",
    "    cols2 = [150,1500,4000]\n",
    "\n",
    "    for combi2 in itertools.product(cols1,cols2):\n",
    "        cust_merch_all = df[(df.amount < combi2[0])&(df.amount <= combi2[1])].groupby([combination[0],combination[1],combination[2]]).size()\n",
    "        df_cust_merch_all = cust_merch_all.to_frame()\n",
    "        df_cust_merch_all = df_cust_merch_all.rename(index=str, columns={0: combination[0]+\"_\"+combination[1]+\"_\"+combination[2]+\"step\"+str(combi2[0])+\"amount\"+str(combi2[1])})\n",
    "        df = pd.merge(df, df_cust_merch_all, on=[combination[0],combination[1],combination[2]], how='left')\n",
    "\n",
    "    print(combination[0],combination[1],combination[2])"
   ]
  },
  {
   "cell_type": "code",
   "execution_count": 36,
   "metadata": {},
   "outputs": [
    {
     "name": "stdout",
     "output_type": "stream",
     "text": [
      "customer age gender merchant\n",
      "customer age gender category\n",
      "customer age merchant category\n",
      "customer gender merchant category\n",
      "age gender merchant category\n"
     ]
    }
   ],
   "source": [
    "cols_cat = ['customer','age','gender','merchant','category']\n",
    "for combination in itertools.combinations(cols_cat,4):\n",
    "\n",
    "    cust_merch_all = df.groupby([combination[0],combination[1],combination[2],combination[3]]).size()\n",
    "    df_cust_merch_all = cust_merch_all.to_frame()\n",
    "    df_cust_merch_all = df_cust_merch_all.rename(index=str, columns={0: combination[0]+\"_\"+combination[1]+\"_\"+combination[2]+\"_\"+combination[3]+\"_all\"})\n",
    "    df = pd.merge(df, df_cust_merch_all, on=[combination[0],combination[1],combination[2],combination[3]], how='left')\n",
    "    \n",
    "    cust_merch_all = df[df.step < 45].groupby([combination[0],combination[1],combination[2],combination[3]]).size()\n",
    "    df_cust_merch_all = cust_merch_all.to_frame()\n",
    "    df_cust_merch_all = df_cust_merch_all.rename(index=str, columns={0: combination[0]+\"_\"+combination[1]+\"_\"+combination[2]+\"_\"+combination[3]+\"_step45\"})\n",
    "    df = pd.merge(df, df_cust_merch_all, on=[combination[0],combination[1],combination[2],combination[3]], how='left')\n",
    "    \n",
    "    cust_merch_all = df[df.step < 90].groupby([combination[0],combination[1],combination[2],combination[3]]).size()\n",
    "    df_cust_merch_all = cust_merch_all.to_frame()\n",
    "    df_cust_merch_all = df_cust_merch_all.rename(index=str, columns={0: combination[0]+\"_\"+combination[1]+\"_\"+combination[2]+\"_\"+combination[3]+\"_step90\"})\n",
    "    df = pd.merge(df, df_cust_merch_all, on=[combination[0],combination[1],combination[2],combination[3]], how='left')\n",
    "\n",
    "    cust_merch_all = df[df.step < 135].groupby([combination[0],combination[1],combination[2],combination[3]]).size()\n",
    "    df_cust_merch_all = cust_merch_all.to_frame()\n",
    "    df_cust_merch_all = df_cust_merch_all.rename(index=str, columns={0: combination[0]+\"_\"+combination[1]+\"_\"+combination[2]+\"_\"+combination[3]+\"_step135\"})\n",
    "    df = pd.merge(df, df_cust_merch_all, on=[combination[0],combination[1],combination[2],combination[3]], how='left')\n",
    "\n",
    "    cust_merch_all = df[df.amount <= 150].groupby([combination[0],combination[1],combination[2],combination[3]]).size()\n",
    "    df_cust_merch_all = cust_merch_all.to_frame()\n",
    "    df_cust_merch_all = df_cust_merch_all.rename(index=str, columns={0: combination[0]+\"_\"+combination[1]+\"_\"+combination[2]+\"_\"+combination[3]+\"_amount150\"})\n",
    "    df = pd.merge(df, df_cust_merch_all, on=[combination[0],combination[1],combination[2],combination[3]], how='left')\n",
    "\n",
    "    \n",
    "    cust_merch_all = df[df.amount <= 1500].groupby([combination[0],combination[1],combination[2],combination[3]]).size()\n",
    "    df_cust_merch_all = cust_merch_all.to_frame()\n",
    "    df_cust_merch_all = df_cust_merch_all.rename(index=str, columns={0: combination[0]+\"_\"+combination[1]+\"_\"+combination[2]+\"_\"+combination[3]+\"_amount1500\"})\n",
    "    df = pd.merge(df, df_cust_merch_all, on=[combination[0],combination[1],combination[2],combination[3]], how='left')\n",
    "\n",
    "    \n",
    "    cust_merch_all = df[df.amount <= 4000].groupby([combination[0],combination[1],combination[2],combination[3]]).size()\n",
    "    df_cust_merch_all = cust_merch_all.to_frame()\n",
    "    df_cust_merch_all = df_cust_merch_all.rename(index=str, columns={0: combination[0]+\"_\"+combination[1]+\"_\"+combination[2]+\"_\"+combination[3]+\"_amount4000\"})\n",
    "    df = pd.merge(df, df_cust_merch_all, on=[combination[0],combination[1],combination[2],combination[3]], how='left')\n",
    "\n",
    "    \n",
    "    cols1 = [180,45,90,135]\n",
    "    cols2 = [150,1500,4000]\n",
    "\n",
    "    for combi2 in itertools.product(cols1,cols2):\n",
    "        cust_merch_all = df[(df.amount < combi2[0])&(df.amount <= combi2[1])].groupby([combination[0],combination[1],combination[2],combination[3]]).size()\n",
    "        df_cust_merch_all = cust_merch_all.to_frame()\n",
    "        df_cust_merch_all = df_cust_merch_all.rename(index=str, columns={0: combination[0]+\"_\"+combination[1]+\"_\"+combination[2]+\"_\"+combination[3]+\"step\"+str(combi2[0])+\"amount\"+str(combi2[1])})\n",
    "        df = pd.merge(df, df_cust_merch_all, on=[combination[0],combination[1],combination[2],combination[3]], how='left')\n",
    "\n",
    "    print(combination[0],combination[1],combination[2],combination[3])"
   ]
  },
  {
   "cell_type": "code",
   "execution_count": 37,
   "metadata": {},
   "outputs": [
    {
     "name": "stdout",
     "output_type": "stream",
     "text": [
      "customer age gender merchant category\n"
     ]
    }
   ],
   "source": [
    "cols_cat = ['customer','age','gender','merchant','category']\n",
    "for combination in itertools.combinations(cols_cat,5):\n",
    "\n",
    "    cust_merch_all = df.groupby([combination[0],combination[1],combination[2],combination[3],combination[4]]).size()\n",
    "    df_cust_merch_all = cust_merch_all.to_frame()\n",
    "    df_cust_merch_all = df_cust_merch_all.rename(index=str, columns={0: combination[0]+\"_\"+combination[1]+\"_\"+combination[2]+\"_\"+combination[3]+\"_\"+combination[4]+\"_all\"})\n",
    "    df = pd.merge(df, df_cust_merch_all, on=[combination[0],combination[1],combination[2],combination[3],combination[4]], how='left')\n",
    "    \n",
    "    cust_merch_all = df[df.step < 45].groupby([combination[0],combination[1],combination[2],combination[3],combination[4]]).size()\n",
    "    df_cust_merch_all = cust_merch_all.to_frame()\n",
    "    df_cust_merch_all = df_cust_merch_all.rename(index=str, columns={0: combination[0]+\"_\"+combination[1]+\"_\"+combination[2]+\"_\"+combination[3]+\"_\"+combination[4]+\"_step45\"})\n",
    "    df = pd.merge(df, df_cust_merch_all, on=[combination[0],combination[1],combination[2],combination[3],combination[4]], how='left')\n",
    "    \n",
    "    cust_merch_all = df[df.step < 90].groupby([combination[0],combination[1],combination[2],combination[3],combination[4]]).size()\n",
    "    df_cust_merch_all = cust_merch_all.to_frame()\n",
    "    df_cust_merch_all = df_cust_merch_all.rename(index=str, columns={0: combination[0]+\"_\"+combination[1]+\"_\"+combination[2]+\"_\"+combination[3]+\"_\"+combination[4]+\"_step90\"})\n",
    "    df = pd.merge(df, df_cust_merch_all, on=[combination[0],combination[1],combination[2],combination[3],combination[4]], how='left')\n",
    "\n",
    "    cust_merch_all = df[df.step < 135].groupby([combination[0],combination[1],combination[2],combination[3],combination[4]]).size()\n",
    "    df_cust_merch_all = cust_merch_all.to_frame()\n",
    "    df_cust_merch_all = df_cust_merch_all.rename(index=str, columns={0: combination[0]+\"_\"+combination[1]+\"_\"+combination[2]+\"_\"+combination[3]+\"_\"+combination[4]+\"_step135\"})\n",
    "    df = pd.merge(df, df_cust_merch_all, on=[combination[0],combination[1],combination[2],combination[3],combination[4]], how='left')\n",
    "\n",
    "    cust_merch_all = df[df.amount <= 150].groupby([combination[0],combination[1],combination[2],combination[3],combination[4]]).size()\n",
    "    df_cust_merch_all = cust_merch_all.to_frame()\n",
    "    df_cust_merch_all = df_cust_merch_all.rename(index=str, columns={0: combination[0]+\"_\"+combination[1]+\"_\"+combination[2]+\"_\"+combination[3]+\"_\"+combination[4]+\"_amount150\"})\n",
    "    df = pd.merge(df, df_cust_merch_all, on=[combination[0],combination[1],combination[2],combination[3],combination[4]], how='left')\n",
    "\n",
    "    \n",
    "    cust_merch_all = df[df.amount <= 1500].groupby([combination[0],combination[1],combination[2],combination[3],combination[4]]).size()\n",
    "    df_cust_merch_all = cust_merch_all.to_frame()\n",
    "    df_cust_merch_all = df_cust_merch_all.rename(index=str, columns={0: combination[0]+\"_\"+combination[1]+\"_\"+combination[2]+\"_\"+combination[3]+\"_\"+combination[4]+\"_amount1500\"})\n",
    "    df = pd.merge(df, df_cust_merch_all, on=[combination[0],combination[1],combination[2],combination[3],combination[4]], how='left')\n",
    "\n",
    "    \n",
    "    cust_merch_all = df[df.amount <= 4000].groupby([combination[0],combination[1],combination[2],combination[3],combination[4]]).size()\n",
    "    df_cust_merch_all = cust_merch_all.to_frame()\n",
    "    df_cust_merch_all = df_cust_merch_all.rename(index=str, columns={0: combination[0]+\"_\"+combination[1]+\"_\"+combination[2]+\"_\"+combination[3]+\"_\"+combination[4]+\"_amount4000\"})\n",
    "    df = pd.merge(df, df_cust_merch_all, on=[combination[0],combination[1],combination[2],combination[3],combination[4]], how='left')\n",
    "\n",
    "    \n",
    "    cols1 = [180,45,90,135]\n",
    "    cols2 = [150,1500,4000]\n",
    "\n",
    "    for combi2 in itertools.product(cols1,cols2):\n",
    "        cust_merch_all = df[(df.amount < combi2[0])&(df.amount <= combi2[1])].groupby([combination[0],combination[1],combination[2],combination[3],combination[4]]).size()\n",
    "        df_cust_merch_all = cust_merch_all.to_frame()\n",
    "        df_cust_merch_all = df_cust_merch_all.rename(index=str, columns={0: combination[0]+\"_\"+combination[1]+\"_\"+combination[2]+\"_\"+combination[3]+\"_\"+combination[4]+\"step\"+str(combi2[0])+\"amount\"+str(combi2[1])})\n",
    "        df = pd.merge(df, df_cust_merch_all, on=[combination[0],combination[1],combination[2],combination[3],combination[4]], how='left')\n",
    "\n",
    "    print(combination[0],combination[1],combination[2],combination[3],combination[4])"
   ]
  },
  {
   "cell_type": "code",
   "execution_count": 38,
   "metadata": {},
   "outputs": [],
   "source": [
    "df.to_pickle(\"df_after_variable_creation.pkl\")"
   ]
  },
  {
   "cell_type": "code",
   "execution_count": null,
   "metadata": {},
   "outputs": [],
   "source": []
  }
 ],
 "metadata": {
  "kernelspec": {
   "display_name": "Python 3",
   "language": "python",
   "name": "python3"
  },
  "language_info": {
   "codemirror_mode": {
    "name": "ipython",
    "version": 3
   },
   "file_extension": ".py",
   "mimetype": "text/x-python",
   "name": "python",
   "nbconvert_exporter": "python",
   "pygments_lexer": "ipython3",
   "version": "3.5.2"
  },
  "widgets": {
   "state": {},
   "version": "1.1.2"
  }
 },
 "nbformat": 4,
 "nbformat_minor": 2
}
